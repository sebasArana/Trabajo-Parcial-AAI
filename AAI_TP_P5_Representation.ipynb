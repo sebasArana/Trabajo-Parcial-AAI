{
  "nbformat": 4,
  "nbformat_minor": 0,
  "metadata": {
    "colab": {
      "provenance": [],
      "collapsed_sections": [],
      "authorship_tag": "ABX9TyPYnEAcKG839oNOoItllsht",
      "include_colab_link": true
    },
    "kernelspec": {
      "name": "python3",
      "display_name": "Python 3"
    },
    "language_info": {
      "name": "python"
    }
  },
  "cells": [
    {
      "cell_type": "markdown",
      "metadata": {
        "id": "view-in-github",
        "colab_type": "text"
      },
      "source": [
        "<a href=\"https://colab.research.google.com/github/sebasArana/Trabajo-Parcial-AAI/blob/main/AAI_TP_P5_Representation.ipynb\" target=\"_parent\"><img src=\"https://colab.research.google.com/assets/colab-badge.svg\" alt=\"Open In Colab\"/></a>"
      ]
    },
    {
      "cell_type": "code",
      "source": [
        "import random\n",
        "import numpy as np\n",
        "import math\n",
        "import seaborn as sns\n",
        "import networkx as nx\n",
        "import itertools"
      ],
      "metadata": {
        "id": "_dvxR--5BBjC"
      },
      "execution_count": 114,
      "outputs": []
    },
    {
      "cell_type": "code",
      "source": [
        "ry = 100\n",
        "rx = 100\n",
        "n = 11\n",
        "\n",
        "p = [(random.randint(0,rx),random.randint(0,ry)) for i in range(n)]"
      ],
      "metadata": {
        "id": "YbdsG0VkUGNt"
      },
      "execution_count": 115,
      "outputs": []
    },
    {
      "cell_type": "code",
      "source": [
        "def distance(a, b):\n",
        "  x1 = a[0]\n",
        "  x2 = b[0]\n",
        "  y1 = a[1]\n",
        "  y2 = b[1]\n",
        "  return math.sqrt((x2-x1)**2+(y2-y1)**2)"
      ],
      "metadata": {
        "id": "_YrWHG8lUKaE"
      },
      "execution_count": 116,
      "outputs": []
    },
    {
      "cell_type": "code",
      "source": [
        "mat = []\n",
        "for i in range(n):\n",
        "  row = []\n",
        "  for j in range(0,n):\n",
        "    if (i==j):\n",
        "      row.append(0.)\n",
        "    else:\n",
        "      row.append(distance(p[i], p[j]))\n",
        "  mat.append(row)"
      ],
      "metadata": {
        "id": "hZglanmlUPEF"
      },
      "execution_count": 117,
      "outputs": []
    },
    {
      "cell_type": "code",
      "source": [
        "# mat"
      ],
      "metadata": {
        "id": "mfbRhr-nUijV"
      },
      "execution_count": 118,
      "outputs": []
    },
    {
      "cell_type": "code",
      "source": [
        "samples = \"\"\"{0 3 6 7 10 4 1 0 2 5 9 8 0}\n",
        "{0 8 9 6 3 0 7 10 4 1 2 5 0}\n",
        "{0 1 2 3 4 5 6 7 8 9 10 0 0}\n",
        "{0 6 3 7 10 4 1 0 2 5 9 8 0}\n",
        "{0 6 9 8 3 0 7 10 4 1 2 5 0}\"\"\"\n",
        "\n",
        "samples = [ [ int(i) for i in line[1:-1].split()] for line in samples.splitlines() ]\n",
        "samples"
      ],
      "metadata": {
        "colab": {
          "base_uri": "https://localhost:8080/"
        },
        "id": "_8D_r1SyJRk7",
        "outputId": "ec43e66a-f7a6-4a08-f94c-bac99d15ac74"
      },
      "execution_count": 119,
      "outputs": [
        {
          "output_type": "execute_result",
          "data": {
            "text/plain": [
              "[[0, 3, 6, 7, 10, 4, 1, 0, 2, 5, 9, 8, 0],\n",
              " [0, 8, 9, 6, 3, 0, 7, 10, 4, 1, 2, 5, 0],\n",
              " [0, 1, 2, 3, 4, 5, 6, 7, 8, 9, 10, 0, 0],\n",
              " [0, 6, 3, 7, 10, 4, 1, 0, 2, 5, 9, 8, 0],\n",
              " [0, 6, 9, 8, 3, 0, 7, 10, 4, 1, 2, 5, 0]]"
            ]
          },
          "metadata": {},
          "execution_count": 119
        }
      ]
    },
    {
      "cell_type": "code",
      "source": [
        "selected_sample =  samples[random.randint(0, len(samples) - 1) ][::]\n",
        "print(selected_sample)\n",
        "selected_sample.count(0)"
      ],
      "metadata": {
        "colab": {
          "base_uri": "https://localhost:8080/"
        },
        "id": "Sgu_FMsxVBpV",
        "outputId": "280c9aca-8e01-41c5-b965-64d17a7e2a1b"
      },
      "execution_count": 120,
      "outputs": [
        {
          "output_type": "stream",
          "name": "stdout",
          "text": [
            "[0, 6, 3, 7, 10, 4, 1, 0, 2, 5, 9, 8, 0]\n"
          ]
        },
        {
          "output_type": "execute_result",
          "data": {
            "text/plain": [
              "3"
            ]
          },
          "metadata": {},
          "execution_count": 120
        }
      ]
    },
    {
      "cell_type": "code",
      "source": [
        "nv = selected_sample.count(0) -1\n",
        "selected_sample =  samples[random.randint(0, len(samples) - 1) ][::]\n",
        "print(selected_sample)\n",
        "\n",
        "routes_sample =[[0,] for i in range(nv) ]\n",
        "\n",
        "iv = 0\n",
        "for i in selected_sample[1:-1]:\n",
        "    if i == 0:\n",
        "        routes_sample[iv].append(0)\n",
        "        iv += 1\n",
        "        continue\n",
        "    routes_sample[iv].append(i)\n",
        "\n",
        "routes_sample"
      ],
      "metadata": {
        "colab": {
          "base_uri": "https://localhost:8080/"
        },
        "id": "Dzl5n1gMMPJ7",
        "outputId": "ccec41b8-911b-46f9-baaa-4c76bec8970c"
      },
      "execution_count": 121,
      "outputs": [
        {
          "output_type": "stream",
          "name": "stdout",
          "text": [
            "[0, 6, 3, 7, 10, 4, 1, 0, 2, 5, 9, 8, 0]\n"
          ]
        },
        {
          "output_type": "execute_result",
          "data": {
            "text/plain": [
              "[[0, 6, 3, 7, 10, 4, 1, 0], [0, 2, 5, 9, 8]]"
            ]
          },
          "metadata": {},
          "execution_count": 121
        }
      ]
    },
    {
      "cell_type": "code",
      "source": [
        "G=nx.Graph(name=\"VRP\")\n",
        "\n",
        "routes = routes_sample[::]\n",
        "\n",
        "edges = []\n",
        "for r in routes:\n",
        "    route_edges = [(r[n],r[n+1]) for n in range(len(r)-1)]\n",
        "    G.add_nodes_from(r)\n",
        "    G.add_edges_from(route_edges)\n",
        "    edges.append(route_edges)\n",
        "\n",
        "print(\"Graph has %d nodes with %d edges\" %(G.number_of_nodes(),    \n",
        "G.number_of_edges()))\n",
        "\n",
        "# pos = nx.spring_layout(G)\n",
        "nx.draw_networkx_nodes(G,pos=p)\n",
        "nx.draw_networkx_labels(G,pos=p)\n",
        "colors = ['r', 'b', 'y']\n",
        "linewidths = [10, 5]\n",
        "for ctr, edgelist in enumerate(edges):\n",
        "    nx.draw_networkx_edges(G,pos=p,edgelist=edgelist,edge_color = colors[ctr], width=linewidths[ctr])\n",
        "    # nx.draw_networkx_edges(G,pos=p,edgelist=edgelist,edge_color = colors[ctr])\n",
        "\n",
        "print(\"Representación de:\", selected_sample)"
      ],
      "metadata": {
        "colab": {
          "base_uri": "https://localhost:8080/",
          "height": 283
        },
        "id": "CpfVORcsKvI8",
        "outputId": "e9850cee-b47d-48db-b162-986e9cc8e793"
      },
      "execution_count": 126,
      "outputs": [
        {
          "output_type": "stream",
          "name": "stdout",
          "text": [
            "Graph has 11 nodes with 11 edges\n",
            "Representación de: [0, 6, 3, 7, 10, 4, 1, 0, 2, 5, 9, 8, 0]\n"
          ]
        },
        {
          "output_type": "display_data",
          "data": {
            "text/plain": [
              "<Figure size 432x288 with 1 Axes>"
            ],
            "image/png": "[encoded data removed]"
          },
          "metadata": {}
        }
      ]
    }
  ]
}